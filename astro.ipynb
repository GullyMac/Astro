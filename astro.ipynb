{
  "nbformat": 4,
  "nbformat_minor": 0,
  "metadata": {
    "colab": {
      "name": "stella.ipynb",
      "provenance": [],
      "collapsed_sections": [
        "e1DGLW53-dji",
        "nqA3YRZ2eBvr",
        "aIW4KwdIeBvm",
        "zYOTWmHneBu6",
        "w95ns5LSeBtg",
        "-KB1Y6ATtiE2",
        "D75ejYiBtiE_",
        "a2qmvRymtiFG",
        "QCVZ12SVSBAt",
        "pZ2-eZMRtnN1"
      ],
      "machine_shape": "hm"
    },
    "kernelspec": {
      "name": "python3",
      "display_name": "Python 3"
    },
    "accelerator": "GPU"
  },
  "cells": [
    {
      "cell_type": "markdown",
      "metadata": {
        "id": "hfq3dR0s8ny5",
        "colab_type": "text"
      },
      "source": [
        "# <b>월간 데이콘 2 천체 유형 분류\n",
        "\n",
        "##### 작성자 : 허은정\n",
        "##### 마지막 수정 : 20.02.28 23:30"
      ]
    },
    {
      "cell_type": "markdown",
      "metadata": {
        "id": "e1DGLW53-dji",
        "colab_type": "text"
      },
      "source": [
        "### <b>라이브러리 및 데이터"
      ]
    },
    {
      "cell_type": "code",
      "metadata": {
        "id": "OQvGgiV4ls5d",
        "colab_type": "code",
        "colab": {}
      },
      "source": [
        "# 비활성화방지, F12 개발자도구. 콘솔창에 입력\n",
        "\n",
        "function ClickConnect(){\n",
        "console.log(\"Working\"); \n",
        "document.querySelector(\"colab-toolbar-button#connect\").click() \n",
        "}\n",
        "setInterval(ClickConnect,60000)"
      ],
      "execution_count": 0,
      "outputs": []
    },
    {
      "cell_type": "markdown",
      "metadata": {
        "id": "2JJX6mN--hy3",
        "colab_type": "text"
      },
      "source": [
        "#### 구글 드라이브에 마운트"
      ]
    },
    {
      "cell_type": "code",
      "metadata": {
        "id": "6PxFb2kV8m4-",
        "colab_type": "code",
        "colab": {}
      },
      "source": [
        "from google.colab import drive\n",
        "drive.mount('/content/gdrive')"
      ],
      "execution_count": 0,
      "outputs": []
    },
    {
      "cell_type": "markdown",
      "metadata": {
        "id": "i9_IFdgo-mo9",
        "colab_type": "text"
      },
      "source": [
        "#### 라이브러리 설치"
      ]
    },
    {
      "cell_type": "code",
      "metadata": {
        "id": "w-S3KWBi8m9U",
        "colab_type": "code",
        "colab": {}
      },
      "source": [
        "import os                                           # 디렉토리 설정\n",
        "os.chdir(\"/content/gdrive/My Drive/stella\")\n",
        "import warnings                                      # 경고 메세지 무시\n",
        "warnings.filterwarnings('ignore')\n",
        "import pandas as pd                                  # 데이터 조작, 분석\n",
        "import numpy as np                                   # 행렬 연산\n",
        "import random                                        # 난수 생성\n",
        "random.seed(2020)\n",
        "import time\n",
        "from sklearn.preprocessing import OneHotEncoder      # OneHot인코딩\n",
        "\n",
        "!pip install catboost\n",
        "from catboost import CatBoostClassifier, Pool        # CatBoost 모델링\n",
        "from lightgbm.sklearn import LGBMClassifier          # lightGBM 모델링\n",
        "from sklearn.metrics import log_loss                 # LogLoss 측정\n",
        "\n",
        "import matplotlib.pyplot as plt                      # 시각화"
      ],
      "execution_count": 0,
      "outputs": []
    },
    {
      "cell_type": "markdown",
      "metadata": {
        "colab_type": "text",
        "id": "nqA3YRZ2eBvr"
      },
      "source": [
        "### <b>EDA"
      ]
    },
    {
      "cell_type": "code",
      "metadata": {
        "id": "f2uVg0UXstlD",
        "colab_type": "code",
        "colab": {}
      },
      "source": [
        "train = pd.read_csv(\"train.csv\")\n",
        "test = pd.read_csv(\"test.csv\")\n",
        "sample_submission = pd.read_csv('sample_submission.csv', index_col=0)"
      ],
      "execution_count": 0,
      "outputs": []
    },
    {
      "cell_type": "markdown",
      "metadata": {
        "colab_type": "text",
        "id": "aIW4KwdIeBvm"
      },
      "source": [
        "###### 왼쪽 train 데이터, 오른쪽 test 데이터 분포 비교"
      ]
    },
    {
      "cell_type": "code",
      "metadata": {
        "colab_type": "code",
        "id": "SX79ZUuMeBvd",
        "colab": {}
      },
      "source": [
        "plt.subplots(figsize=(20,40))\n",
        "for i in range(20):\n",
        "    plt.subplot(20, 2, 2*i+1)\n",
        "    plt.title(train.keys()[3+i])\n",
        "    plt.boxplot(train.iloc[:,3+i], vert=False)\n",
        "for i in range(20):\n",
        "    plt.subplot(20, 2, 2*i+2)\n",
        "    plt.title(test.keys()[2+i])\n",
        "    plt.boxplot(test.iloc[:,2+i], vert=False)\n",
        "plt.show()"
      ],
      "execution_count": 0,
      "outputs": []
    },
    {
      "cell_type": "markdown",
      "metadata": {
        "colab_type": "text",
        "id": "zYOTWmHneBu6"
      },
      "source": [
        "###### Groupby로 분포 파악"
      ]
    },
    {
      "cell_type": "code",
      "metadata": {
        "colab_type": "code",
        "id": "e6TgkJ3VeBur",
        "colab": {}
      },
      "source": [
        "plt.subplots(figsize=(20,40))\n",
        "for i in range(19):\n",
        "    plt.subplot(19,1,i+1)\n",
        "    plt.title(i+1)\n",
        "    plt.plot(train.groupby(['type_num']).mean().iloc[i,3:], color=(i/19,0,0))\n",
        "plt.show()"
      ],
      "execution_count": 0,
      "outputs": []
    },
    {
      "cell_type": "markdown",
      "metadata": {
        "colab_type": "text",
        "id": "w95ns5LSeBtg"
      },
      "source": [
        "###### type 별 그래프"
      ]
    },
    {
      "cell_type": "code",
      "metadata": {
        "colab_type": "code",
        "id": "zCIoWpPpeBtH",
        "colab": {}
      },
      "source": [
        "plt.subplots(figsize=(20,10))\n",
        "for i in range(len(train[(train['type_num'] == 6)].iloc[10000:20000])):\n",
        "  plt.plot(train.keys()[3:23],train[(train['type_num'] == 6)].iloc[10000:20000].iloc[i,3:23])"
      ],
      "execution_count": 0,
      "outputs": []
    },
    {
      "cell_type": "code",
      "metadata": {
        "colab_type": "code",
        "id": "TYMeIIgWeBs_",
        "colab": {}
      },
      "source": [
        "plt.subplots(figsize=(20,10))\n",
        "for i in range(len(train[(train['type_num'] == 6)].iloc[10000:20000])):\n",
        "  plt.plot(train.keys()[23:39],train[(train['type_num'] == 6)].iloc[10000:20000].iloc[i,23:39])"
      ],
      "execution_count": 0,
      "outputs": []
    },
    {
      "cell_type": "markdown",
      "metadata": {
        "colab_type": "text",
        "id": "KSJmzQJMtiEz"
      },
      "source": [
        "### <b> 모델 생성, 적용"
      ]
    },
    {
      "cell_type": "markdown",
      "metadata": {
        "colab_type": "text",
        "id": "-KB1Y6ATtiE2"
      },
      "source": [
        "###### catboost depth=6"
      ]
    },
    {
      "cell_type": "code",
      "metadata": {
        "colab_type": "code",
        "id": "o8nZ3m66tiE3",
        "colab": {}
      },
      "source": [
        "def modeling(split_size, order, random_seed):\n",
        "\n",
        "# 데이터 불러오기\n",
        "\n",
        "  train = pd.read_csv(\"train.csv\")\n",
        "  test = pd.read_csv(\"test.csv\")\n",
        "  sample_submission = pd.read_csv('sample_submission.csv', index_col=0)\n",
        "  \n",
        "\n",
        "  # train 데이터 -> train, valid, last_valid로 나누기\n",
        "\n",
        "  valid_index = len(train) // split_size\n",
        "  valid = train.sample(frac=1, random_state=random_seed).iloc[(valid_index * (order-1)):(valid_index * order),:].reset_index(drop=True)\n",
        "  train = pd.concat([train.sample(frac=1, random_state=random_seed).iloc[:(valid_index * (order-1)),:],\n",
        "                     train.sample(frac=1, random_state=random_seed).iloc[(valid_index * order):,:]]).reset_index(drop=True)\n",
        "\n",
        "\n",
        "  # test 데이터 범위에 train, valid, last_valid 데이터 값 맞추기\n",
        "  # test 데이터 범위 ±1 밖에 있으면 Outlier로 취급, 제거\n",
        "\n",
        "  for var in train.keys()[3:23]:\n",
        "    test = test[(test[var] > 10) & (test[var] < 40)]\n",
        "\n",
        "  for var in train.keys()[3:23]:\n",
        "    train = train[(train[var] > test[var].min() - 1) & (train[var] < test[var].max() + 1)].reset_index(drop=True)\n",
        "    valid = valid[(valid[var] > test[var].min() - 1) & (valid[var] < test[var].max() + 1)].reset_index(drop=True)\n",
        "\n",
        "  test = pd.read_csv(\"test.csv\")\n",
        "\n",
        "  # psfMag_u ~ modelMag_z까지 20개 변수 각각의 차 계산, 20C2개 변수 추가\n",
        "\n",
        "  for i in range(19):\n",
        "    for j in range(19-i):\n",
        "      train[str(train.keys()[3+i])+'_'+str(train.keys()[3+i+j+1])] = pd.DataFrame(np.array(train.iloc[:,3+i])-np.array(train.iloc[:,3+i+j+1]))\n",
        "      valid[str(train.keys()[3+i])+'_'+str(train.keys()[3+i+j+1])] = pd.DataFrame(np.array(valid.iloc[:,3+i])-np.array(valid.iloc[:,3+i+j+1]))\n",
        "      test[str(train.keys()[3+i])+'_'+str(train.keys()[3+i+j+1])] = pd.DataFrame(np.array(test.iloc[:,2+i])-np.array(test.iloc[:,2+i+j+1]))\n",
        "  \n",
        "\n",
        "  # fiberID별 psfMag_u ~ modelMag_z 20개 변수 각각의 평균값 계산, 20개 변수 추가\n",
        "\n",
        "  group_mean = train.groupby(train['fiberID']).mean().iloc[:,2:22]\n",
        "  train = pd.merge(train, group_mean, how='left', left_on='fiberID', right_index=True)\n",
        "  valid = pd.merge(valid, group_mean, how='left', left_on='fiberID', right_index=True)   # valid, test에도 train값 merge\n",
        "  test = pd.merge(test, group_mean, how='left', left_on='fiberID', right_index=True)\n",
        "\n",
        "\n",
        "  # type을 sample_submission에 대응하는 가변수 형태로 변환\n",
        "\n",
        "  column_number = {}\n",
        "  for i, column in enumerate(sample_submission.columns):\n",
        "    column_number[column] = i\n",
        "  def to_number(x, dic):\n",
        "    return dic[x]\n",
        "  train['type_num'] = train['type'].apply(lambda x: to_number(x, column_number))\n",
        "  valid['type_num'] = valid['type'].apply(lambda x: to_number(x, column_number))\n",
        "\n",
        "\n",
        "  # 독립변수 x, 종속변수 y로 분리\n",
        "\n",
        "  train_x = train.drop(columns=['type', 'type_num', 'id', 'fiberID'], axis=1)\n",
        "  train_y = train['type_num']\n",
        "  valid_x = valid.drop(columns=['type', 'type_num', 'id', 'fiberID'], axis=1)\n",
        "  valid_y = valid['type_num']\n",
        "  test_x = test.drop(columns=['id', 'fiberID'], axis=1)\n",
        "\n",
        "\n",
        "  # Catboost 모델 생성, 적용, last_valid_pred, test_pred 생성\n",
        "  \n",
        "  result = (random_seed-2020)*3+order\n",
        "\n",
        "  model = CatBoostClassifier(iterations=50000,               # 반복횟수 최대 50000\n",
        "                              learning_rate=0.05,           # 러닝레이트 0.05\n",
        "                              depth=6,                       # 트리 깊이 ~16, 디폴트 6\n",
        "                              l2_leaf_reg=30,                # L2 정규화\n",
        "                              random_seed=random_seed,       # 랜덤시드 고정\n",
        "                              metric_period=50000,           # 중간결과 출력안함\n",
        "                              early_stopping_rounds=1000,    # 1000iteration 동안 val_loss 감소 없으면 학습 중단\n",
        "                              grow_policy='SymmetricTree',   # 트리 생성 방식, SymmetricTree는 wide, 깊이 일정, Lossguide는 deep\n",
        "                              task_type='GPU'                # GPU 사용\n",
        "                             )\n",
        "\n",
        "  model.fit(train_x, train_y, eval_set=(valid_x, valid_y))\n",
        "  test_pred = model.predict_proba(test_x)\n",
        "\n",
        "\n",
        "  # test_pred 값을 csv파일로 저장\n",
        "\n",
        "  submission = pd.DataFrame(data=test_pred, columns=sample_submission.columns, index=sample_submission.index)\n",
        "  submission.to_csv('t'+str(result)+'.csv', index=True)\n",
        "\n",
        "  return str(result)+'번째 모델 생성 완료'\n",
        "  "
      ],
      "execution_count": 0,
      "outputs": []
    },
    {
      "cell_type": "code",
      "metadata": {
        "colab_type": "code",
        "id": "DsjiccA5tiE7",
        "colab": {}
      },
      "source": [
        "for j in range(5):\n",
        "  for i in range(3):\n",
        "    modeling(3,i+1,2020+j)"
      ],
      "execution_count": 0,
      "outputs": []
    },
    {
      "cell_type": "markdown",
      "metadata": {
        "colab_type": "text",
        "id": "D75ejYiBtiE_"
      },
      "source": [
        "###### catboost depth=8"
      ]
    },
    {
      "cell_type": "code",
      "metadata": {
        "colab_type": "code",
        "id": "VIzZMRQ2tiE_",
        "colab": {}
      },
      "source": [
        "def modeling(split_size, order, random_seed):\n",
        "\n",
        "# 데이터 불러오기\n",
        "\n",
        "  train = pd.read_csv(\"train.csv\")\n",
        "  test = pd.read_csv(\"test.csv\")\n",
        "  sample_submission = pd.read_csv('sample_submission.csv', index_col=0)\n",
        "  \n",
        "\n",
        "  # train 데이터 -> train, valid, last_valid로 나누기\n",
        "\n",
        "  valid_index = len(train) // split_size\n",
        "  valid = train.sample(frac=1, random_state=random_seed).iloc[(valid_index * (order-1)):(valid_index * order),:].reset_index(drop=True)\n",
        "  train = pd.concat([train.sample(frac=1, random_state=random_seed).iloc[:(valid_index * (order-1)),:],\n",
        "                     train.sample(frac=1, random_state=random_seed).iloc[(valid_index * order):,:]]).reset_index(drop=True)\n",
        "\n",
        "\n",
        "  # test 데이터 범위에 train, valid, last_valid 데이터 값 맞추기\n",
        "  # test 데이터 범위 ±1 밖에 있으면 Outlier로 취급, 제거\n",
        "\n",
        "  for var in train.keys()[3:23]:\n",
        "    test = test[(test[var] > 10) & (test[var] < 40)]\n",
        "\n",
        "  for var in train.keys()[3:23]:\n",
        "    train = train[(train[var] > test[var].min() - 1) & (train[var] < test[var].max() + 1)].reset_index(drop=True)\n",
        "    valid = valid[(valid[var] > test[var].min() - 1) & (valid[var] < test[var].max() + 1)].reset_index(drop=True)\n",
        "\n",
        "  test = pd.read_csv(\"test.csv\")\n",
        "\n",
        "  # psfMag_u ~ modelMag_z까지 20개 변수 각각의 차 계산, 20C2개 변수 추가\n",
        "\n",
        "  for i in range(19):\n",
        "    for j in range(19-i):\n",
        "      train[str(train.keys()[3+i])+'_'+str(train.keys()[3+i+j+1])] = pd.DataFrame(np.array(train.iloc[:,3+i])-np.array(train.iloc[:,3+i+j+1]))\n",
        "      valid[str(train.keys()[3+i])+'_'+str(train.keys()[3+i+j+1])] = pd.DataFrame(np.array(valid.iloc[:,3+i])-np.array(valid.iloc[:,3+i+j+1]))\n",
        "      test[str(train.keys()[3+i])+'_'+str(train.keys()[3+i+j+1])] = pd.DataFrame(np.array(test.iloc[:,2+i])-np.array(test.iloc[:,2+i+j+1]))\n",
        "  \n",
        "\n",
        "  # fiberID별 psfMag_u ~ modelMag_z 20개 변수 각각의 평균값 계산, 20개 변수 추가\n",
        "\n",
        "  group_mean = train.groupby(train['fiberID']).mean().iloc[:,2:22]\n",
        "  train = pd.merge(train, group_mean, how='left', left_on='fiberID', right_index=True)\n",
        "  valid = pd.merge(valid, group_mean, how='left', left_on='fiberID', right_index=True)   # valid, test에도 train값 merge\n",
        "  test = pd.merge(test, group_mean, how='left', left_on='fiberID', right_index=True)\n",
        "\n",
        "\n",
        "  # type을 sample_submission에 대응하는 가변수 형태로 변환\n",
        "\n",
        "  column_number = {}\n",
        "  for i, column in enumerate(sample_submission.columns):\n",
        "    column_number[column] = i\n",
        "  def to_number(x, dic):\n",
        "    return dic[x]\n",
        "  train['type_num'] = train['type'].apply(lambda x: to_number(x, column_number))\n",
        "  valid['type_num'] = valid['type'].apply(lambda x: to_number(x, column_number))\n",
        "\n",
        "\n",
        "  # 독립변수 x, 종속변수 y로 분리\n",
        "\n",
        "  train_x = train.drop(columns=['type', 'type_num', 'id', 'fiberID'], axis=1)\n",
        "  train_y = train['type_num']\n",
        "  valid_x = valid.drop(columns=['type', 'type_num', 'id', 'fiberID'], axis=1)\n",
        "  valid_y = valid['type_num']\n",
        "  test_x = test.drop(columns=['id', 'fiberID'], axis=1)\n",
        "\n",
        "\n",
        "  # Catboost 모델 생성, 적용, last_valid_pred, test_pred 생성\n",
        "  \n",
        "  result = 15 + (random_seed-2020)*3+order\n",
        "\n",
        "  model = CatBoostClassifier(iterations=50000,               # 반복횟수 최대 50000\n",
        "                              learning_rate=0.05,           # 러닝레이트 0.05\n",
        "                              depth=8,                       # 트리 깊이 ~16, 디폴트 6\n",
        "                              l2_leaf_reg=30,                # L2 정규화\n",
        "                              random_seed=random_seed,       # 랜덤시드 고정\n",
        "                              metric_period=50000,           # 중간결과 출력안함\n",
        "                              early_stopping_rounds=1000,    # 1000iteration 동안 val_loss 감소 없으면 학습 중단\n",
        "                              grow_policy='SymmetricTree',   # 트리 생성 방식, SymmetricTree는 wide, 깊이 일정, Lossguide는 deep\n",
        "                              task_type='GPU'                # GPU 사용\n",
        "                             )\n",
        "\n",
        "  model.fit(train_x, train_y, eval_set=(valid_x, valid_y))\n",
        "  test_pred = model.predict_proba(test_x)\n",
        "\n",
        "\n",
        "  # test_pred 값을 csv파일로 저장\n",
        "\n",
        "  submission = pd.DataFrame(data=test_pred, columns=sample_submission.columns, index=sample_submission.index)\n",
        "  submission.to_csv('t'+str(result)+'.csv', index=True)\n",
        "\n",
        "  return str(result)+'번째 모델 생성 완료'\n",
        "  "
      ],
      "execution_count": 0,
      "outputs": []
    },
    {
      "cell_type": "code",
      "metadata": {
        "colab_type": "code",
        "id": "TTUSJgPFtiFC",
        "colab": {}
      },
      "source": [
        "for j in range(5):\n",
        "  for i in range(3):\n",
        "    modeling(3,i+1,2020+j)"
      ],
      "execution_count": 0,
      "outputs": []
    },
    {
      "cell_type": "markdown",
      "metadata": {
        "colab_type": "text",
        "id": "a2qmvRymtiFG"
      },
      "source": [
        "###### lightgbm"
      ]
    },
    {
      "cell_type": "code",
      "metadata": {
        "colab_type": "code",
        "id": "_M_ypmy5tiFH",
        "colab": {}
      },
      "source": [
        "def modeling(split_size, order, random_seed):\n",
        "\n",
        "# 데이터 불러오기\n",
        "\n",
        "  train = pd.read_csv(\"train.csv\")\n",
        "  test = pd.read_csv(\"test.csv\")\n",
        "  sample_submission = pd.read_csv('sample_submission.csv', index_col=0)\n",
        "  \n",
        "\n",
        "  # train 데이터 -> train, valid, last_valid로 나누기\n",
        "\n",
        "  valid_index = len(train) // split_size\n",
        "  valid = train.sample(frac=1, random_state=random_seed).iloc[(valid_index * (order-1)):(valid_index * order),:].reset_index(drop=True)\n",
        "  train = pd.concat([train.sample(frac=1, random_state=random_seed).iloc[:(valid_index * (order-1)),:],\n",
        "                     train.sample(frac=1, random_state=random_seed).iloc[(valid_index * order):,:]]).reset_index(drop=True)\n",
        "\n",
        "\n",
        "  # test 데이터 범위에 train, valid, last_valid 데이터 값 맞추기\n",
        "  # test 데이터 범위 ±1 밖에 있으면 Outlier로 취급, 제거\n",
        "\n",
        "  for var in train.keys()[3:23]:\n",
        "    test = test[(test[var] > 10) & (test[var] < 40)]\n",
        "\n",
        "  for var in train.keys()[3:23]:\n",
        "    train = train[(train[var] > test[var].min() - 1) & (train[var] < test[var].max() + 1)].reset_index(drop=True)\n",
        "    valid = valid[(valid[var] > test[var].min() - 1) & (valid[var] < test[var].max() + 1)].reset_index(drop=True)\n",
        "\n",
        "  test = pd.read_csv(\"test.csv\")\n",
        "\n",
        "  # psfMag_u ~ modelMag_z까지 20개 변수 각각의 차 계산, 20C2개 변수 추가\n",
        "\n",
        "  for i in range(19):\n",
        "    for j in range(19-i):\n",
        "      train[str(train.keys()[3+i])+'_'+str(train.keys()[3+i+j+1])] = pd.DataFrame(np.array(train.iloc[:,3+i])-np.array(train.iloc[:,3+i+j+1]))\n",
        "      valid[str(train.keys()[3+i])+'_'+str(train.keys()[3+i+j+1])] = pd.DataFrame(np.array(valid.iloc[:,3+i])-np.array(valid.iloc[:,3+i+j+1]))\n",
        "      test[str(train.keys()[3+i])+'_'+str(train.keys()[3+i+j+1])] = pd.DataFrame(np.array(test.iloc[:,2+i])-np.array(test.iloc[:,2+i+j+1]))\n",
        "  \n",
        "\n",
        "  # fiberID별 psfMag_u ~ modelMag_z 20개 변수 각각의 평균값 계산, 20개 변수 추가\n",
        "\n",
        "  group_mean = train.groupby(train['fiberID']).mean().iloc[:,2:22]\n",
        "  train = pd.merge(train, group_mean, how='left', left_on='fiberID', right_index=True)\n",
        "  valid = pd.merge(valid, group_mean, how='left', left_on='fiberID', right_index=True)   # valid, test에도 train값 merge\n",
        "  test = pd.merge(test, group_mean, how='left', left_on='fiberID', right_index=True)\n",
        "\n",
        "\n",
        "  # type을 sample_submission에 대응하는 가변수 형태로 변환\n",
        "\n",
        "  column_number = {}\n",
        "  for i, column in enumerate(sample_submission.columns):\n",
        "    column_number[column] = i\n",
        "  def to_number(x, dic):\n",
        "    return dic[x]\n",
        "  train['type_num'] = train['type'].apply(lambda x: to_number(x, column_number))\n",
        "  valid['type_num'] = valid['type'].apply(lambda x: to_number(x, column_number))\n",
        "\n",
        "\n",
        "  # 독립변수 x, 종속변수 y로 분리\n",
        "\n",
        "  train_x = train.drop(columns=['type', 'type_num', 'id', 'fiberID'], axis=1)\n",
        "  train_y = train['type_num']\n",
        "  valid_x = valid.drop(columns=['type', 'type_num', 'id', 'fiberID'], axis=1)\n",
        "  valid_y = valid['type_num']\n",
        "  test_x = test.drop(columns=['id', 'fiberID'], axis=1)\n",
        "\n",
        "\n",
        "  # Catboost 모델 생성, 적용, last_valid_pred, test_pred 생성\n",
        "  \n",
        "  result = 30 + (random_seed-2020)*3+order\n",
        "\n",
        "  model = LGBMClassifier()\n",
        "  model.set_params(boosting_type='gbdt',\n",
        "                   bagging_freq=10,\n",
        "                   bagging_seed=2020,\n",
        "                   bagging_fraction=0.7,\n",
        "                   feature_fraction=0.7,\n",
        "                   num_leaves=100, \n",
        "                   max_depth=-1, \n",
        "                   learning_rate=0.01, \n",
        "                   n_estimators=2500,\n",
        "                   random_state=2020, \n",
        "                   n_jobs=-1,\n",
        "                   importance_type='split',\n",
        "                   is_training_metric=True,\n",
        "                   eval_metric='logloss',\n",
        "                   early_stopping_rounds=10,\n",
        "                   )\n",
        "  \n",
        "  start = time.time()\n",
        "  model.fit(train_x, train_y, eval_set=(valid_x, valid_y))\n",
        "  print(\"time :\", time.time() - start)\n",
        "\n",
        "  test_pred = model.predict_proba(test_x)\n",
        "\n",
        "\n",
        "  # test_pred 값을 csv파일로 저장\n",
        "\n",
        "  submission = pd.DataFrame(data=test_pred, columns=sample_submission.columns, index=sample_submission.index)\n",
        "  submission.to_csv('t'+str(result)+'.csv', index=True)\n",
        "\n",
        "  return str(result)+'번째 모델 생성 완료'\n",
        "  "
      ],
      "execution_count": 0,
      "outputs": []
    },
    {
      "cell_type": "code",
      "metadata": {
        "colab_type": "code",
        "id": "42V5ik0YtiFJ",
        "colab": {}
      },
      "source": [
        "for j in range(5):\n",
        "  for i in range(3):\n",
        "    modeling(3,i+1,2020+j)"
      ],
      "execution_count": 0,
      "outputs": []
    },
    {
      "cell_type": "markdown",
      "metadata": {
        "id": "QCVZ12SVSBAt",
        "colab_type": "text"
      },
      "source": [
        "### <b>모델 앙상블"
      ]
    },
    {
      "cell_type": "code",
      "metadata": {
        "id": "RtYAZtFhvje5",
        "colab_type": "code",
        "colab": {}
      },
      "source": [
        "n = 45\n",
        "test_pred = pd.read_csv('t1.csv', index_col=0) /n\n",
        "for i in range(n-1):\n",
        "  test_pred += pd.read_csv('t'+str(i+2)+'.csv', index_col=0) /n"
      ],
      "execution_count": 0,
      "outputs": []
    },
    {
      "cell_type": "markdown",
      "metadata": {
        "id": "pZ2-eZMRtnN1",
        "colab_type": "text"
      },
      "source": [
        "### <b>제출 파일 생성"
      ]
    },
    {
      "cell_type": "code",
      "metadata": {
        "id": "FpUOXpCTAEwZ",
        "colab_type": "code",
        "colab": {}
      },
      "source": [
        "sample_submission = pd.read_csv('sample_submission.csv', index_col=0)\n",
        "submission = pd.DataFrame(data=test_pred, columns=sample_submission.columns, index=sample_submission.index)\n",
        "submission.to_csv('3mix_3fold_5.csv', index=True)"
      ],
      "execution_count": 0,
      "outputs": []
    }
  ]
}